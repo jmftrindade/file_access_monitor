{
 "cells": [
  {
   "cell_type": "code",
   "execution_count": null,
   "metadata": {
    "collapsed": true
   },
   "outputs": [],
   "source": [
    "import pandas as pd\n",
    "from py2neo import authenticate, Graph, Node, Relationship\n",
    "\n",
    "# Log-in to Neo4j server.\n",
    "authenticate('localhost:7474', 'neo4j', 'admin')\n",
    "\n",
    "# Create lineage graph.\n",
    "graph = Graph()\n",
    "graph.delete_all()\n",
    "\n",
    "# TODO: Use a combo of dataset name and hash of contents as unique constraint?\n",
    "graph.schema.drop_uniqueness_constraint('Dataset', graph.schema.get_uniqueness_constraints('Dataset'))\n",
    "graph.schema.drop_uniqueness_constraint('Job', graph.schema.get_uniqueness_constraints('Job'))\n",
    "\n",
    "graph.schema.create_uniqueness_constraint('Dataset', 'name')\n",
    "graph.schema.create_uniqueness_constraint('Job', 'uid')\n",
    "\n",
    "dataset1 = graph.merge_one('Dataset', 'name', 'test1.csv')\n",
    "dataset2 = graph.merge_one('Dataset', 'name', 'test2.csv')\n",
    "\n",
    "job1 = graph.merge_one('Job', 'uid', 'cp-3792')\n",
    "job1['name'] = 'cp'\n",
    "job1['pid'] = 3792\n",
    "graph.push(job1)\n",
    "\n",
    "graph.create_unique(Relationship(dataset1, 'IS_READ_BY', job1, timestamp=1))\n",
    "graph.create_unique(Relationship(job1, 'WRITES_TO', dataset2, timestamp=2))\n",
    "\n",
    "query = \"\"\"\n",
    "    MATCH (n)\n",
    "    WITH n, rand() AS random\n",
    "    ORDER BY random\n",
    "    OPTIONAL MATCH (n)-[r]->(m)\n",
    "    RETURN n AS source_node,\n",
    "           id(n) AS source_id,\n",
    "           r,\n",
    "           m AS target_node,\n",
    "           id(m) AS target_id\n",
    "    \"\"\"\n",
    "\n",
    "results = graph.cypher.execute(query)\n",
    "for row in results:\n",
    "    print row\n",
    "\n",
    "query = \"\"\"\n",
    "    MATCH (job:Job) RETURN job.name AS job, job.pid as PID\n",
    "\"\"\"\n",
    "\n",
    "results = graph.cypher.execute(query)\n",
    "for row in results:\n",
    "    print row"
   ]
  }
 ],
 "metadata": {
  "kernelspec": {
   "display_name": "Python [python2]",
   "language": "python",
   "name": "Python [python2]"
  },
  "language_info": {
   "codemirror_mode": {
    "name": "ipython",
    "version": 2
   },
   "file_extension": ".py",
   "mimetype": "text/x-python",
   "name": "python",
   "nbconvert_exporter": "python",
   "pygments_lexer": "ipython2",
   "version": "2.7.12"
  }
 },
 "nbformat": 4,
 "nbformat_minor": 0
}
