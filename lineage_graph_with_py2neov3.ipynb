{
 "cells": [
  {
   "cell_type": "code",
   "execution_count": 3,
   "metadata": {
    "collapsed": false
   },
   "outputs": [
    {
     "name": "stdout",
     "output_type": "stream",
     "text": [
      "                              r  source_id  \\\n",
      "0  {'timestamp': 1485996058897}        149   \n",
      "1                          None        154   \n",
      "2  {'timestamp': 1485996058897}        150   \n",
      "3  {'timestamp': 1485996061122}        152   \n",
      "4                          None        151   \n",
      "5  {'timestamp': 1485996061122}        153   \n",
      "\n",
      "                                         source_node  target_id  \\\n",
      "0  {'name': '/home/lubuntu/src/file_access_monito...      150.0   \n",
      "1  {'name': '/home/lubuntu/src/file_access_monito...        NaN   \n",
      "2  {'pid': 10067, 'uid': 'PID=10067,CLI=cp cp_src...      151.0   \n",
      "3  {'name': '/home/lubuntu/src/file_access_monito...      153.0   \n",
      "4  {'name': '/home/lubuntu/src/file_access_monito...        NaN   \n",
      "5  {'pid': 10069, 'uid': 'PID=10069,CLI=cat cat_s...      154.0   \n",
      "\n",
      "                                         target_node  \n",
      "0  {'pid': 10067, 'uid': 'PID=10067,CLI=cp cp_src...  \n",
      "1                                               None  \n",
      "2  {'name': '/home/lubuntu/src/file_access_monito...  \n",
      "3  {'pid': 10069, 'uid': 'PID=10069,CLI=cat cat_s...  \n",
      "4                                               None  \n",
      "5  {'name': '/home/lubuntu/src/file_access_monito...  \n"
     ]
    }
   ],
   "source": [
    "import lineage_graph as lg\n",
    "import pandas as pd\n",
    "from py2neo import authenticate, Graph, Node, Relationship\n",
    "\n",
    "\n",
    "graph = lg.build_lineage_graph('loggedfs_events2.log')\n",
    "\n",
    "\n",
    "# Sanity check query.\n",
    "query = \"\"\"\n",
    "    MATCH (n)\n",
    "    WITH n, rand() AS random\n",
    "    ORDER BY random\n",
    "    OPTIONAL MATCH (n)-[r]->(m)\n",
    "    RETURN n AS source_node,\n",
    "           id(n) AS source_id,\n",
    "           r,\n",
    "           m AS target_node,\n",
    "           id(m) AS target_id\n",
    "\"\"\"\n",
    "\n",
    "        \n",
    "results_df = pd.DataFrame(graph.data(query))\n",
    "print(results_df)"
   ]
  },
  {
   "cell_type": "code",
   "execution_count": 4,
   "metadata": {
    "collapsed": false
   },
   "outputs": [
    {
     "data": {
      "text/html": [
       "\n",
       "        <iframe\n",
       "            width=\"100%\"\n",
       "            height=\"400\"\n",
       "            src=\"figure/graph.html\"\n",
       "            frameborder=\"0\"\n",
       "            allowfullscreen\n",
       "        ></iframe>\n",
       "        "
      ],
      "text/plain": [
       "<IPython.lib.display.IFrame at 0x1133a7588>"
      ]
     },
     "execution_count": 4,
     "metadata": {},
     "output_type": "execute_result"
    }
   ],
   "source": [
    "from scripts.vis import draw\n",
    "\n",
    "options = {\"Dataset\": \"name\", \"Job\": \"uid\"}\n",
    "draw(graph, options)"
   ]
  },
  {
   "cell_type": "code",
   "execution_count": null,
   "metadata": {
    "collapsed": true
   },
   "outputs": [],
   "source": []
  }
 ],
 "metadata": {
  "kernelspec": {
   "display_name": "Python [Root]",
   "language": "python",
   "name": "Python [Root]"
  },
  "language_info": {
   "codemirror_mode": {
    "name": "ipython",
    "version": 3
   },
   "file_extension": ".py",
   "mimetype": "text/x-python",
   "name": "python",
   "nbconvert_exporter": "python",
   "pygments_lexer": "ipython3",
   "version": "3.5.2"
  }
 },
 "nbformat": 4,
 "nbformat_minor": 0
}
