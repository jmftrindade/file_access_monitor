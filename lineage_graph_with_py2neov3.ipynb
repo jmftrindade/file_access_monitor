{
 "cells": [
  {
   "cell_type": "code",
   "execution_count": 5,
   "metadata": {
    "collapsed": false
   },
   "outputs": [
    {
     "name": "stdout",
     "output_type": "stream",
     "text": [
      "                              r  source_id  \\\n",
      "0  {'timestamp': 1485918018082}         59   \n",
      "1                          None         61   \n",
      "2  {'timestamp': 1485918018082}         60   \n",
      "\n",
      "                                         source_node  target_id  \\\n",
      "0                 {'name': '/home/lubuntu/test.csv'}       60.0   \n",
      "1            {'name': '/home/lubuntu/test_copy.csv'}        NaN   \n",
      "2  {'name': 'cp /home/lubuntu/test.csv /home/lubu...       61.0   \n",
      "\n",
      "                                         target_node  \n",
      "0  {'name': 'cp /home/lubuntu/test.csv /home/lubu...  \n",
      "1                                               None  \n",
      "2            {'name': '/home/lubuntu/test_copy.csv'}  \n"
     ]
    }
   ],
   "source": [
    "import lineage_graph as lg\n",
    "import pandas as pd\n",
    "from py2neo import authenticate, Graph, Node, Relationship\n",
    "\n",
    "\n",
    "graph = lg.build_lineage_graph('loggedfs_events.log')\n",
    "\n",
    "\n",
    "# Sanity check query.\n",
    "query = \"\"\"\n",
    "    MATCH (n)\n",
    "    WITH n, rand() AS random\n",
    "    ORDER BY random\n",
    "    OPTIONAL MATCH (n)-[r]->(m)\n",
    "    RETURN n AS source_node,\n",
    "           id(n) AS source_id,\n",
    "           r,\n",
    "           m AS target_node,\n",
    "           id(m) AS target_id\n",
    "\"\"\"\n",
    "\n",
    "        \n",
    "results_df = pd.DataFrame(graph.data(query))\n",
    "print(results_df)"
   ]
  },
  {
   "cell_type": "code",
   "execution_count": 6,
   "metadata": {
    "collapsed": false
   },
   "outputs": [
    {
     "data": {
      "text/html": [
       "\n",
       "        <iframe\n",
       "            width=\"100%\"\n",
       "            height=\"400\"\n",
       "            src=\"figure/graph.html\"\n",
       "            frameborder=\"0\"\n",
       "            allowfullscreen\n",
       "        ></iframe>\n",
       "        "
      ],
      "text/plain": [
       "<IPython.lib.display.IFrame at 0x113547400>"
      ]
     },
     "execution_count": 6,
     "metadata": {},
     "output_type": "execute_result"
    }
   ],
   "source": [
    "from scripts.vis import draw\n",
    "\n",
    "options = {\"Dataset\": \"name\", \"Job\": \"uid\"}\n",
    "draw(graph, options)"
   ]
  },
  {
   "cell_type": "code",
   "execution_count": null,
   "metadata": {
    "collapsed": true
   },
   "outputs": [],
   "source": []
  }
 ],
 "metadata": {
  "kernelspec": {
   "display_name": "Python [Root]",
   "language": "python",
   "name": "Python [Root]"
  },
  "language_info": {
   "codemirror_mode": {
    "name": "ipython",
    "version": 3
   },
   "file_extension": ".py",
   "mimetype": "text/x-python",
   "name": "python",
   "nbconvert_exporter": "python",
   "pygments_lexer": "ipython3",
   "version": "3.5.2"
  }
 },
 "nbformat": 4,
 "nbformat_minor": 0
}
