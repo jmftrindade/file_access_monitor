{
 "cells": [
  {
   "cell_type": "code",
   "execution_count": null,
   "metadata": {
    "collapsed": false
   },
   "outputs": [],
   "source": [
    "import lineage_graph as lg\n",
    "import pandas as pd\n",
    "from py2neo import authenticate, Graph, Node, Relationship\n",
    "\n",
    "\n",
    "graph = lg.build_lineage_graph('loggedfs_events.log')\n",
    "\n",
    "\n",
    "# Sanity check query.\n",
    "query = \"\"\"\n",
    "    MATCH (n)\n",
    "    WITH n, rand() AS random\n",
    "    ORDER BY random\n",
    "    OPTIONAL MATCH (n)-[r]->(m)\n",
    "    RETURN n AS source_node,\n",
    "           id(n) AS source_id,\n",
    "           r,\n",
    "           m AS target_node,\n",
    "           id(m) AS target_id\n",
    "\"\"\"\n",
    "\n",
    "        \n",
    "results_df = pd.DataFrame(graph.data(query))\n",
    "print(results_df)"
   ]
  },
  {
   "cell_type": "code",
   "execution_count": null,
   "metadata": {
    "collapsed": false
   },
   "outputs": [],
   "source": [
    "from scripts.vis import draw\n",
    "\n",
    "options = {\"Dataset\": \"name\", \"Job\": \"uid\"}\n",
    "draw(graph, options)"
   ]
  },
  {
   "cell_type": "code",
   "execution_count": null,
   "metadata": {
    "collapsed": true
   },
   "outputs": [],
   "source": []
  }
 ],
 "metadata": {
  "kernelspec": {
   "display_name": "Python [Root]",
   "language": "python",
   "name": "Python [Root]"
  },
  "language_info": {
   "codemirror_mode": {
    "name": "ipython",
    "version": 3
   },
   "file_extension": ".py",
   "mimetype": "text/x-python",
   "name": "python",
   "nbconvert_exporter": "python",
   "pygments_lexer": "ipython3",
   "version": "3.5.2"
  }
 },
 "nbformat": 4,
 "nbformat_minor": 0
}
