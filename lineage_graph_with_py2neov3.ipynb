{
 "cells": [
  {
   "cell_type": "code",
   "execution_count": 1,
   "metadata": {
    "collapsed": false
   },
   "outputs": [
    {
     "name": "stdout",
     "output_type": "stream",
     "text": [
      "                  r  source_id                                    source_node  \\\n",
      "0  {'timestamp': 2}         35  {'name': 'cp', 'pid': 3792, 'uid': 'cp-3792'}   \n",
      "1              None         34                          {'name': 'test2.csv'}   \n",
      "2  {'timestamp': 1}         33                          {'name': 'test1.csv'}   \n",
      "\n",
      "   target_id                                    target_node  \n",
      "0       34.0                          {'name': 'test2.csv'}  \n",
      "1        NaN                                           None  \n",
      "2       35.0  {'name': 'cp', 'pid': 3792, 'uid': 'cp-3792'}  \n"
     ]
    }
   ],
   "source": [
    "import pandas as pd\n",
    "from py2neo import authenticate, Graph, Node, Relationship\n",
    "\n",
    "# Log-in to Neo4j server.\n",
    "authenticate('localhost:7474', 'neo4j', 'admin')\n",
    "\n",
    "# Create lineage graph.\n",
    "graph = Graph()\n",
    "\n",
    "# We do not need to clear the graph anymore, now that we have uniqueness constraints.\n",
    "# graph.delete_all()  \n",
    "\n",
    "# TODO: Use a combo of dataset name and hash of contents as unique constraint?\n",
    "graph.schema.drop_uniqueness_constraint('Dataset', graph.schema.get_uniqueness_constraints('Dataset'))\n",
    "graph.schema.drop_uniqueness_constraint('Job', graph.schema.get_uniqueness_constraints('Job'))\n",
    "\n",
    "graph.schema.create_uniqueness_constraint('Dataset', 'name')\n",
    "graph.schema.create_uniqueness_constraint('Job', 'uid')\n",
    "\n",
    "dataset1 = Node('Dataset', name='test1.csv')\n",
    "graph.merge(dataset1)\n",
    "dataset2 = Node('Dataset', name='test2.csv')\n",
    "graph.merge(dataset2)\n",
    "\n",
    "job1 = Node('Job', uid='cp-3792')\n",
    "graph.merge(job1)\n",
    "job1['name'] = 'cp'\n",
    "job1['pid'] = 3792\n",
    "graph.push(job1)\n",
    "\n",
    "# Edges are directed to a data lineage relationship.\n",
    "# Read events: Dataset-[IS_READ_BY]->Job\n",
    "# Write events: Job-[WRITES_TO]->Dataset\n",
    "read_relationship = Relationship(dataset1, 'IS_READ_BY', job1, timestamp=1)\n",
    "write_relationship = Relationship(job1, 'WRITES_TO', dataset2, timestamp=2)\n",
    "graph.create(read_relationship)\n",
    "graph.create(write_relationship)\n",
    "\n",
    "query = \"\"\"\n",
    "    MATCH (n)\n",
    "    WITH n, rand() AS random\n",
    "    ORDER BY random\n",
    "    OPTIONAL MATCH (n)-[r]->(m)\n",
    "    RETURN n AS source_node,\n",
    "           id(n) AS source_id,\n",
    "           r,\n",
    "           m AS target_node,\n",
    "           id(m) AS target_id\n",
    "\"\"\"\n",
    "\n",
    "results_df = pd.DataFrame(graph.data(query))\n",
    "print(results_df)"
   ]
  },
  {
   "cell_type": "code",
   "execution_count": 2,
   "metadata": {
    "collapsed": false
   },
   "outputs": [
    {
     "data": {
      "text/html": [
       "\n",
       "        <iframe\n",
       "            width=\"100%\"\n",
       "            height=\"400\"\n",
       "            src=\"figure/graph-c248fff7-50a7-4be4-92ba-39fa59476939.html\"\n",
       "            frameborder=\"0\"\n",
       "            allowfullscreen\n",
       "        ></iframe>\n",
       "        "
      ],
      "text/plain": [
       "<IPython.lib.display.IFrame at 0x103b28048>"
      ]
     },
     "execution_count": 2,
     "metadata": {},
     "output_type": "execute_result"
    }
   ],
   "source": [
    "from scripts.vis import draw\n",
    "\n",
    "options = {\"Dataset\": \"name\", \"Job\": \"uid\"}\n",
    "draw(graph, options)"
   ]
  },
  {
   "cell_type": "code",
   "execution_count": null,
   "metadata": {
    "collapsed": true
   },
   "outputs": [],
   "source": []
  }
 ],
 "metadata": {
  "kernelspec": {
   "display_name": "Python [Root]",
   "language": "python",
   "name": "Python [Root]"
  },
  "language_info": {
   "codemirror_mode": {
    "name": "ipython",
    "version": 3
   },
   "file_extension": ".py",
   "mimetype": "text/x-python",
   "name": "python",
   "nbconvert_exporter": "python",
   "pygments_lexer": "ipython3",
   "version": "3.5.2"
  }
 },
 "nbformat": 4,
 "nbformat_minor": 0
}
