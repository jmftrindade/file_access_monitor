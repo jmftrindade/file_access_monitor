{
 "cells": [
  {
   "cell_type": "code",
   "execution_count": 1,
   "metadata": {
    "collapsed": false
   },
   "outputs": [
    {
     "name": "stdout",
     "output_type": "stream",
     "text": [
      "[('hive.metastore.warehouse.dir', 'file:/Users/jfon/src/github.com/file_access_monitor/spark-warehouse'), ('spark.submit.pyFiles', '/Users/jfon/.ivy2/jars/graphframes_graphframes-0.4.0-spark2.0-s_2.11.jar,/Users/jfon/.ivy2/jars/com.typesafe.scala-logging_scala-logging-api_2.11-2.1.2.jar,/Users/jfon/.ivy2/jars/com.typesafe.scala-logging_scala-logging-slf4j_2.11-2.1.2.jar,/Users/jfon/.ivy2/jars/org.scala-lang_scala-reflect-2.11.0.jar,/Users/jfon/.ivy2/jars/org.slf4j_slf4j-api-1.7.7.jar'), ('spark.driver.port', '60584'), ('spark.executor.id', 'driver'), ('spark.app.name', 'PySparkShell'), ('spark.app.id', 'local-1493911474737'), ('spark.driver.host', '128.30.10.236'), ('spark.sql.catalogImplementation', 'hive'), ('spark.rdd.compress', 'True'), ('spark.files', 'file:/Users/jfon/.ivy2/jars/graphframes_graphframes-0.4.0-spark2.0-s_2.11.jar,file:/Users/jfon/.ivy2/jars/com.typesafe.scala-logging_scala-logging-api_2.11-2.1.2.jar,file:/Users/jfon/.ivy2/jars/com.typesafe.scala-logging_scala-logging-slf4j_2.11-2.1.2.jar,file:/Users/jfon/.ivy2/jars/org.scala-lang_scala-reflect-2.11.0.jar,file:/Users/jfon/.ivy2/jars/org.slf4j_slf4j-api-1.7.7.jar'), ('spark.jars', 'file:/Users/jfon/.ivy2/jars/graphframes_graphframes-0.4.0-spark2.0-s_2.11.jar,file:/Users/jfon/.ivy2/jars/com.typesafe.scala-logging_scala-logging-api_2.11-2.1.2.jar,file:/Users/jfon/.ivy2/jars/com.typesafe.scala-logging_scala-logging-slf4j_2.11-2.1.2.jar,file:/Users/jfon/.ivy2/jars/org.scala-lang_scala-reflect-2.11.0.jar,file:/Users/jfon/.ivy2/jars/org.slf4j_slf4j-api-1.7.7.jar'), ('spark.driver.memory', '8g'), ('spark.serializer.objectStreamReset', '100'), ('spark.master', 'local[*]'), ('spark.submit.deployMode', 'client')]\n",
      "executor memory: None\n"
     ]
    }
   ],
   "source": [
    "# Is this a sensible config, you ask?\n",
    "print(sc._conf.getAll())\n",
    "\n",
    "print(\"executor memory: %s\" % sc._conf.get('spark.executor.memory'))\n",
    "\n",
    "# The default number of partitions for the shuffle RDD is a whooping 200.\n",
    "# Set it to a more sensible number, e.g., twice the number of cores.\n",
    "sqlContext.setConf('spark.sql.shuffle.partitions', '4')"
   ]
  },
  {
   "cell_type": "code",
   "execution_count": 2,
   "metadata": {
    "collapsed": false,
    "deletable": true,
    "editable": true
   },
   "outputs": [
    {
     "name": "stdout",
     "output_type": "stream",
     "text": [
      "Time to load 12k rows into a GraphFrame: 11475 ms\n",
      "+---+--------+\n",
      "| id|inDegree|\n",
      "+---+--------+\n",
      "| 65|      95|\n",
      "| 71|     208|\n",
      "| 56|     209|\n",
      "| 57|     237|\n",
      "| 80|     196|\n",
      "| 44|     144|\n",
      "|  1|     250|\n",
      "| 85|     158|\n",
      "| 43|     223|\n",
      "| 87|     111|\n",
      "| 86|      26|\n",
      "| 37|      58|\n",
      "| 72|      13|\n",
      "| 76|      86|\n",
      "| 73|     225|\n",
      "| 74|      33|\n",
      "| 45|      52|\n",
      "| 34|       9|\n",
      "| 48|     313|\n",
      "| 22|      43|\n",
      "+---+--------+\n",
      "only showing top 20 rows\n",
      "\n",
      "Time to calculate inDegrees: 2422 ms\n",
      "\n",
      "+---+--------------------+\n",
      "| id|            pagerank|\n",
      "+---+--------------------+\n",
      "| 69|0.024883249635716774|\n",
      "| 65| 0.05898142349628339|\n",
      "| 22|0.046510701000258316|\n",
      "| 85| 0.14353307284285072|\n",
      "| 87| 0.09258392565502635|\n",
      "| 83| 0.09200146441630479|\n",
      "| 24| 0.22600703759798135|\n",
      "| 39| 0.09597251148215888|\n",
      "| 19| 0.16091622409896456|\n",
      "| 66| 0.12988731511507848|\n",
      "| 56| 0.10501267824313702|\n",
      "| 77|0.042032555185090956|\n",
      "| 49|  0.2206331570647032|\n",
      "|  0| 0.15358480061920282|\n",
      "| 55| 0.04139891881312825|\n",
      "| 12| 0.04548237933360287|\n",
      "|  8| 0.09122298696596007|\n",
      "| 76|0.058488072201192134|\n",
      "| 31|0.023147936914892475|\n",
      "| 18|0.044002045743538436|\n",
      "+---+--------------------+\n",
      "only showing top 20 rows\n",
      "\n",
      "Time to calculate PageRank with 20 iterations: 8389 ms\n",
      "+----+---------+----+----------------+----+----------------+----+\n",
      "|  v1|       e1|  v2|              e2|  v3|              e3|  v4|\n",
      "+----+---------+----+----------------+----+----------------+----+\n",
      "|[11]|[11,39,0]|[39]|[39,83,45279817]|[83]| [83,1,45282280]| [1]|\n",
      "|[11]|[11,39,0]|[39]|[39,83,45279817]|[83]| [83,1,45282275]| [1]|\n",
      "|[11]|[11,39,0]|[39]|[39,83,45279817]|[83]| [83,1,44974563]| [1]|\n",
      "|[11]|[11,39,0]|[39]|[39,83,45279817]|[83]|[83,39,44974563]|[39]|\n",
      "|[11]|[11,39,0]|[39]|[39,83,45279817]|[83]| [83,1,44974376]| [1]|\n",
      "|[11]|[11,39,0]|[39]|[39,83,45279817]|[83]| [83,1,44961444]| [1]|\n",
      "|[11]|[11,39,0]|[39]|[39,83,45279817]|[83]|[83,39,44961444]|[39]|\n",
      "|[11]|[11,39,0]|[39]|[39,83,45279817]|[83]|[83,39,44948495]|[39]|\n",
      "|[11]|[11,39,0]|[39]|[39,83,45279817]|[83]|[83,87,44778492]|[87]|\n",
      "|[11]|[11,39,0]|[39]|[39,83,45279817]|[83]|[83,85,44603779]|[85]|\n",
      "|[11]|[11,39,0]|[39]|[39,83,45279817]|[83]|[83,39,44603779]|[39]|\n",
      "|[11]|[11,39,0]|[39]|[39,83,45279817]|[83]| [83,1,44586210]| [1]|\n",
      "|[11]|[11,39,0]|[39]|[39,83,45279817]|[83]|[83,42,44081651]|[42]|\n",
      "|[11]|[11,39,0]|[39]|[39,83,45279817]|[83]|[83,42,44081650]|[42]|\n",
      "|[11]|[11,39,0]|[39]|[39,83,45279817]|[83]|[83,71,44076413]|[71]|\n",
      "|[11]|[11,39,0]|[39]|[39,83,45279817]|[83]|[83,87,44076413]|[87]|\n",
      "|[11]|[11,39,0]|[39]|[39,83,45279817]|[83]|[83,42,44076413]|[42]|\n",
      "|[11]|[11,39,0]|[39]|[39,83,45279817]|[83]| [83,1,44076413]| [1]|\n",
      "|[11]|[11,39,0]|[39]|[39,83,45279817]|[83]|[83,85,44076413]|[85]|\n",
      "|[11]|[11,39,0]|[39]|[39,83,45279817]|[83]|[83,64,44076413]|[64]|\n",
      "+----+---------+----+----------------+----+----------------+----+\n",
      "only showing top 20 rows\n",
      "\n",
      "Time to find 3-hop motifs: 1712 ms\n",
      "\n"
     ]
    }
   ],
   "source": [
    "import time\n",
    "from graphframes import GraphFrame\n",
    "\n",
    "# To avoid those silly WARN on block locks not released yet by tasks.\n",
    "sc.setLogLevel('ERROR')\n",
    "\n",
    "# The default number of partitions for the shuffle RDD is a whooping 200.\n",
    "# Set it to a more sensible number, e.g., twice the number of cores.\n",
    "sqlContext.setConf('spark.sql.shuffle.partitions', '4')\n",
    "\n",
    "\"\"\"\n",
    "# Hello world example.\n",
    "vertices_df = sqlContext.createDataFrame([\n",
    "  (\"a\", \"Alice\", 34),\n",
    "  (\"b\", \"Bob\", 36),\n",
    "  (\"c\", \"Charlie\", 30),\n",
    "], [\"id\", \"name\", \"age\"])\n",
    "edges_df = sqlContext.createDataFrame([\n",
    "  (\"a\", \"b\", \"friend\"),\n",
    "  (\"b\", \"c\", \"follow\"),\n",
    "  (\"c\", \"b\", \"follow\"),\n",
    "], [\"src\", \"dst\", \"relationship\"])\n",
    "\"\"\"\n",
    "\n",
    "t0 = int(round(time.time() * 1000))\n",
    "# Create a graphframe out of SNAP's temporal dataset: https://snap.stanford.edu/data/email-Eu-core.html\n",
    "# Dept3 is the one with the smallest number of edges: 12216\n",
    "csv_path = \"snap_temporal_graph_dataset/email-Eu-core-Dept3.txt\"\n",
    "edges_df = spark.read.format(\"com.databricks.spark.csv\").option(\"header\", \"true\").option(\"delimiter\", \" \").load(csv_path)\n",
    "\n",
    "# Construct the required vertices dataframe, which requires a special \"id\" column.\n",
    "src_vertices_df = edges_df.selectExpr(\"src as id\")\n",
    "dst_vertices_df = edges_df.selectExpr(\"dst as id\")\n",
    "vertices_df = src_vertices_df.unionAll(dst_vertices_df).distinct()\n",
    "\n",
    "# Create a GraphFrame\n",
    "g = GraphFrame(vertices_df, edges_df)\n",
    "t1 = int(round(time.time() * 1000))\n",
    "\n",
    "print('Time to load 12k rows into a GraphFrame: %s ms' % str(t1 - t0))\n",
    "\n",
    "# The default number of partitions for the shuffle RDD is a whooping 200.\n",
    "\n",
    "# Query: Get in-degree of each vertex.\n",
    "t0 = int(round(time.time() * 1000))\n",
    "g.inDegrees.show()\n",
    "t1 = int(round(time.time() * 1000))\n",
    "print('Time to calculate inDegrees: %s ms\\n' % str(t1 - t0))\n",
    "\n",
    "# Run PageRank algorithm, and show results.\n",
    "t0 = int(round(time.time() * 1000))\n",
    "results = g.pageRank(resetProbability=0.01, maxIter=10)\n",
    "results.vertices.select(\"id\", \"pagerank\").show()\n",
    "t1 = int(round(time.time() * 1000))\n",
    "print('Time to calculate PageRank with 20 iterations: %s ms' % str(t1 - t0))\n",
    "\n",
    "# Search for 3-hop motifs.\n",
    "t0 = int(round(time.time() * 1000))\n",
    "motifs = g.find(\"(v1)-[e1]->(v2); (v2)-[e2]->(v3); (v3)-[e3]->(v4)\")\n",
    "motifs.show()\n",
    "t1 = int(round(time.time() * 1000))\n",
    "print('Time to find 3-hop motifs: %s ms\\n' % str(t1 - t0))"
   ]
  },
  {
   "cell_type": "code",
   "execution_count": 3,
   "metadata": {
    "collapsed": false,
    "deletable": true,
    "editable": true
   },
   "outputs": [
    {
     "name": "stdout",
     "output_type": "stream",
     "text": [
      "+----+---------+----+----------------+----+---------------+---+---------------+----+\n",
      "|  v1|       e1|  v2|              e2|  v3|             e3| v4|             e4|  v5|\n",
      "+----+---------+----+----------------+----+---------------+---+---------------+----+\n",
      "|[11]|[11,39,0]|[39]|[39,83,45279817]|[83]|[83,1,45282280]|[1]|[1,87,45049628]|[87]|\n",
      "|[11]|[11,39,0]|[39]|[39,83,45279817]|[83]|[83,1,45282280]|[1]|[1,89,45029289]|[89]|\n",
      "|[11]|[11,39,0]|[39]|[39,83,45279817]|[83]|[83,1,45282280]|[1]|[1,16,44942750]|[16]|\n",
      "|[11]|[11,39,0]|[39]|[39,83,45279817]|[83]|[83,1,45282280]|[1]|[1,19,44938863]|[19]|\n",
      "|[11]|[11,39,0]|[39]|[39,83,45279817]|[83]|[83,1,45282280]|[1]|[1,60,44364627]|[60]|\n",
      "|[11]|[11,39,0]|[39]|[39,83,45279817]|[83]|[83,1,45282280]|[1]|[1,60,44355467]|[60]|\n",
      "|[11]|[11,39,0]|[39]|[39,83,45279817]|[83]|[83,1,45282280]|[1]|[1,16,42610218]|[16]|\n",
      "|[11]|[11,39,0]|[39]|[39,83,45279817]|[83]|[83,1,45282280]|[1]|[1,47,42441779]|[47]|\n",
      "|[11]|[11,39,0]|[39]|[39,83,45279817]|[83]|[83,1,45282280]|[1]|[1,16,42345751]|[16]|\n",
      "|[11]|[11,39,0]|[39]|[39,83,45279817]|[83]|[83,1,45282280]|[1]|[1,89,42088324]|[89]|\n",
      "|[11]|[11,39,0]|[39]|[39,83,45279817]|[83]|[83,1,45282280]|[1]|[1,89,42041810]|[89]|\n",
      "|[11]|[11,39,0]|[39]|[39,83,45279817]|[83]|[83,1,45282280]|[1]|[1,16,41749079]|[16]|\n",
      "|[11]|[11,39,0]|[39]|[39,83,45279817]|[83]|[83,1,45282280]|[1]|[1,74,41410008]|[74]|\n",
      "|[11]|[11,39,0]|[39]|[39,83,45279817]|[83]|[83,1,45282280]|[1]|[1,85,41334114]|[85]|\n",
      "|[11]|[11,39,0]|[39]|[39,83,45279817]|[83]|[83,1,45282280]|[1]|[1,83,40791387]|[83]|\n",
      "|[11]|[11,39,0]|[39]|[39,83,45279817]|[83]|[83,1,45282280]|[1]|[1,83,40305757]|[83]|\n",
      "|[11]|[11,39,0]|[39]|[39,83,45279817]|[83]|[83,1,45282280]|[1]|[1,35,40019097]|[35]|\n",
      "|[11]|[11,39,0]|[39]|[39,83,45279817]|[83]|[83,1,45282280]|[1]|[1,74,40019097]|[74]|\n",
      "|[11]|[11,39,0]|[39]|[39,83,45279817]|[83]|[83,1,45282280]|[1]|[1,19,40019097]|[19]|\n",
      "|[11]|[11,39,0]|[39]|[39,83,45279817]|[83]|[83,1,45282280]|[1]|[1,64,40019097]|[64]|\n",
      "+----+---------+----+----------------+----+---------------+---+---------------+----+\n",
      "only showing top 20 rows\n",
      "\n",
      "Time to find 4-hop motifs: 76832 ms\n",
      "\n"
     ]
    }
   ],
   "source": [
    "# Search for 4-hop motifs: JVM Crashy McCrash if you don't set the driver memory to at least 8g.\n",
    "t0 = int(round(time.time() * 1000))\n",
    "motifs = g.find(\"(v1)-[e1]->(v2); (v2)-[e2]->(v3); (v3)-[e3]->(v4); (v4)-[e4]->(v5)\")\n",
    "motifs.show()\n",
    "t1 = int(round(time.time() * 1000))\n",
    "print('Time to find 4-hop motifs: %s ms\\n' % str(t1 - t0))\n"
   ]
  },
  {
   "cell_type": "code",
   "execution_count": null,
   "metadata": {
    "collapsed": true
   },
   "outputs": [],
   "source": [
    "# Search for 5-hop motifs: JVM Crashy McCrash if you don't set the driver memory to at least 8g.\n",
    "# Used up all mem, and in 30 minutes it still wasn't done.  Had to kill it >.<\n",
    "t0 = int(round(time.time() * 1000))\n",
    "motifs = g.find(\"(v1)-[e1]->(v2); (v2)-[e2]->(v3); (v3)-[e3]->(v4); (v4)-[e4]->(v5); (v5)-[e5]->(v6)\")\n",
    "motifs.show()\n",
    "t1 = int(round(time.time() * 1000))\n",
    "print('Time to find 5-hop motifs: %s ms\\n' % str(t1 - t0))"
   ]
  },
  {
   "cell_type": "code",
   "execution_count": null,
   "metadata": {
    "collapsed": true
   },
   "outputs": [],
   "source": []
  }
 ],
 "metadata": {
  "anaconda-cloud": {},
  "kernelspec": {
   "display_name": "Python [Root]",
   "language": "python",
   "name": "Python [Root]"
  },
  "language_info": {
   "codemirror_mode": {
    "name": "ipython",
    "version": 3
   },
   "file_extension": ".py",
   "mimetype": "text/x-python",
   "name": "python",
   "nbconvert_exporter": "python",
   "pygments_lexer": "ipython3",
   "version": "3.5.2"
  }
 },
 "nbformat": 4,
 "nbformat_minor": 2
}
