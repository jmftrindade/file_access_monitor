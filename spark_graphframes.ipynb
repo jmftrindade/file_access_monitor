{
 "cells": [
  {
   "cell_type": "code",
   "execution_count": null,
   "metadata": {
    "collapsed": false,
    "deletable": true,
    "editable": true
   },
   "outputs": [
    {
     "name": "stdout",
     "output_type": "stream",
     "text": [
      "Row(src='11', dst='39', time='0')\n",
      "Row(id='51')\n",
      "+---+--------+\n",
      "| id|inDegree|\n",
      "+---+--------+\n",
      "|  7|      87|\n",
      "| 51|      11|\n",
      "| 54|     615|\n",
      "| 15|     219|\n",
      "| 11|     110|\n",
      "| 69|      29|\n",
      "| 29|      35|\n",
      "| 42|      48|\n",
      "| 87|     111|\n",
      "| 73|     225|\n",
      "| 64|     181|\n",
      "|  3|      19|\n",
      "| 30|     226|\n",
      "| 34|       9|\n",
      "| 59|      51|\n",
      "|  8|     296|\n",
      "| 22|      43|\n",
      "| 28|      10|\n",
      "| 85|     158|\n",
      "| 16|     378|\n",
      "+---+--------+\n",
      "only showing top 20 rows\n",
      "\n"
     ]
    }
   ],
   "source": [
    "# Create a Vertex DataFrame with unique ID column \"id\"\n",
    "#v = sqlContext.createDataFrame([\n",
    "#  (\"a\", \"Alice\", 34),\n",
    "#  (\"b\", \"Bob\", 36),\n",
    "#  (\"c\", \"Charlie\", 30),\n",
    "#], [\"id\", \"name\", \"age\"])\n",
    "\n",
    "# Create an Edge DataFrame with \"src\" and \"dst\" columns\n",
    "#e = sqlContext.createDataFrame([\n",
    "#  (\"a\", \"b\", \"friend\"),\n",
    "#  (\"b\", \"c\", \"follow\"),\n",
    "#  (\"c\", \"b\", \"follow\"),\n",
    "#], [\"src\", \"dst\", \"relationship\"])\n",
    "#g = GraphFrame(v, e)\n",
    "\n",
    "# Create a graphframe out of SNAP's temporal dataset: https://snap.stanford.edu/data/email-Eu-core.html\n",
    "# Dept3 is the one with the smallest number of edges: 12216\n",
    "\n",
    "csv_path = \"snap_temporal_graph_dataset/email-Eu-core-Dept3.txt\"\n",
    "edges_df = spark.read.format(\"com.databricks.spark.csv\").option(\"header\", \"true\").option(\"delimiter\", \" \").load(csv_path)\n",
    "\n",
    "print(edges_df.head())\n",
    "\n",
    "# Construct the required vertices dataframe, which requires a special \"id\" column.\n",
    "src_vertices_df = edges_df.selectExpr(\"src as id\")\n",
    "dst_vertices_df = edges_df.selectExpr(\"dst as id\")\n",
    "vertices_df = src_vertices_df.unionAll(dst_vertices_df).distinct()\n",
    "\n",
    "print(vertices_df.head())\n",
    "\n",
    "# Create a GraphFrame\n",
    "g = GraphFrame(vertices_df, edges_df)\n",
    "\n",
    "# Query: Get in-degree of each vertex.\n",
    "g.inDegrees.show()\n",
    "\n",
    "# Run PageRank algorithm, and show results.\n",
    "results = g.pageRank(resetProbability=0.01, maxIter=20)\n",
    "results.vertices.select(\"id\", \"pagerank\").show()"
   ]
  },
  {
   "cell_type": "code",
   "execution_count": null,
   "metadata": {
    "collapsed": true,
    "deletable": true,
    "editable": true
   },
   "outputs": [],
   "source": []
  }
 ],
 "metadata": {
  "anaconda-cloud": {},
  "kernelspec": {
   "display_name": "Python [Root]",
   "language": "python",
   "name": "Python [Root]"
  },
  "language_info": {
   "codemirror_mode": {
    "name": "ipython",
    "version": 3
   },
   "file_extension": ".py",
   "mimetype": "text/x-python",
   "name": "python",
   "nbconvert_exporter": "python",
   "pygments_lexer": "ipython3",
   "version": "3.5.2"
  }
 },
 "nbformat": 4,
 "nbformat_minor": 2
}
