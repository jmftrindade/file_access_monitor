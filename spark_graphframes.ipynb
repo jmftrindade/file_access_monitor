{
 "cells": [
  {
   "cell_type": "code",
   "execution_count": 1,
   "metadata": {
    "collapsed": false,
    "deletable": true,
    "editable": true
   },
   "outputs": [
    {
     "name": "stdout",
     "output_type": "stream",
     "text": [
      "[('hive.metastore.warehouse.dir', 'file:/Users/jfon/src/github.com/file_access_monitor/spark-warehouse'), ('spark.submit.pyFiles', '/Users/jfon/.ivy2/jars/graphframes_graphframes-0.4.0-spark2.0-s_2.11.jar,/Users/jfon/.ivy2/jars/com.typesafe.scala-logging_scala-logging-api_2.11-2.1.2.jar,/Users/jfon/.ivy2/jars/com.typesafe.scala-logging_scala-logging-slf4j_2.11-2.1.2.jar,/Users/jfon/.ivy2/jars/org.scala-lang_scala-reflect-2.11.0.jar,/Users/jfon/.ivy2/jars/org.slf4j_slf4j-api-1.7.7.jar'), ('spark.app.id', 'local-1494358469470'), ('spark.executor.id', 'driver'), ('spark.app.name', 'PySparkShell'), ('spark.driver.host', '128.30.10.236'), ('spark.sql.catalogImplementation', 'hive'), ('spark.rdd.compress', 'True'), ('spark.driver.port', '55022'), ('spark.files', 'file:/Users/jfon/.ivy2/jars/graphframes_graphframes-0.4.0-spark2.0-s_2.11.jar,file:/Users/jfon/.ivy2/jars/com.typesafe.scala-logging_scala-logging-api_2.11-2.1.2.jar,file:/Users/jfon/.ivy2/jars/com.typesafe.scala-logging_scala-logging-slf4j_2.11-2.1.2.jar,file:/Users/jfon/.ivy2/jars/org.scala-lang_scala-reflect-2.11.0.jar,file:/Users/jfon/.ivy2/jars/org.slf4j_slf4j-api-1.7.7.jar'), ('spark.driver.memory', '8g'), ('spark.jars', 'file:/Users/jfon/.ivy2/jars/graphframes_graphframes-0.4.0-spark2.0-s_2.11.jar,file:/Users/jfon/.ivy2/jars/com.typesafe.scala-logging_scala-logging-api_2.11-2.1.2.jar,file:/Users/jfon/.ivy2/jars/com.typesafe.scala-logging_scala-logging-slf4j_2.11-2.1.2.jar,file:/Users/jfon/.ivy2/jars/org.scala-lang_scala-reflect-2.11.0.jar,file:/Users/jfon/.ivy2/jars/org.slf4j_slf4j-api-1.7.7.jar'), ('spark.serializer.objectStreamReset', '100'), ('spark.master', 'local[*]'), ('spark.submit.deployMode', 'client')]\n",
      "executor memory: None\n"
     ]
    }
   ],
   "source": [
    "# Is this a sensible config, you ask?\n",
    "print(sc._conf.getAll())\n",
    "\n",
    "print(\"executor memory: %s\" % sc._conf.get('spark.executor.memory'))\n",
    "\n",
    "# The default number of partitions for the shuffle RDD is a whooping 200.\n",
    "# Set it to a more sensible number, e.g., twice the number of cores.\n",
    "sqlContext.setConf('spark.sql.shuffle.partitions', '4')"
   ]
  },
  {
   "cell_type": "code",
   "execution_count": 5,
   "metadata": {
    "collapsed": false,
    "deletable": true,
    "editable": true
   },
   "outputs": [
    {
     "name": "stdout",
     "output_type": "stream",
     "text": [
      "Time to load 100 rows into a GraphFrame: 219 ms\n",
      "+---+--------+\n",
      "| id|inDegree|\n",
      "+---+--------+\n",
      "| 65|       7|\n",
      "| 71|       1|\n",
      "| 56|       4|\n",
      "| 57|       1|\n",
      "| 80|       1|\n",
      "| 44|       1|\n",
      "| 48|       3|\n",
      "| 22|       3|\n",
      "| 16|       3|\n",
      "| 21|       3|\n",
      "| 64|       2|\n",
      "| 77|       2|\n",
      "| 89|       1|\n",
      "| 35|       3|\n",
      "| 62|       2|\n",
      "|  5|       1|\n",
      "| 14|       1|\n",
      "| 25|       2|\n",
      "| 58|       1|\n",
      "| 60|       9|\n",
      "+---+--------+\n",
      "only showing top 20 rows\n",
      "\n",
      "Time to calculate inDegrees: 180 ms\n",
      "\n",
      "+---+--------------------+\n",
      "| id|            pagerank|\n",
      "+---+--------------------+\n",
      "| 69|0.011164705882352941|\n",
      "| 65| 0.06396615154950808|\n",
      "| 22| 0.05508933919807962|\n",
      "| 85|                0.01|\n",
      "| 87|                0.01|\n",
      "| 83|                0.01|\n",
      "| 24| 0.06664616106495666|\n",
      "| 39|              0.0199|\n",
      "| 64|           0.0297505|\n",
      "| 66|0.012392823529411765|\n",
      "| 44|0.010582352941176472|\n",
      "| 77| 0.02204379374525956|\n",
      "| 49|0.018263129167330337|\n",
      "|  0|                0.01|\n",
      "| 89|              0.0199|\n",
      "| 67|0.026390565409436816|\n",
      "| 57|0.025863796704925508|\n",
      "| 48| 0.05917169622831044|\n",
      "|  4| 0.16349577891313768|\n",
      "| 25| 0.02505474218157445|\n",
      "+---+--------------------+\n",
      "only showing top 20 rows\n",
      "\n",
      "Time to calculate PageRank with 20 iterations: 7398 ms\n",
      "+----+------------+----+--------------+----+--------------+----+\n",
      "|  v1|          e1|  v2|            e2|  v3|            e3|  v4|\n",
      "+----+------------+----+--------------+----+--------------+----+\n",
      "|[11]|   [11,39,0]|[39]| [39,54,92562]|[54]|[54,16,202648]|[16]|\n",
      "|[11]|   [11,39,0]|[39]| [39,54,92562]|[54]|[54,16,198018]|[16]|\n",
      "|[11]|   [11,39,0]|[39]| [39,54,92562]|[54]|[54,24,197408]|[24]|\n",
      "|[11]|   [11,39,0]|[39]| [39,54,92562]|[54]|[54,67,181093]|[67]|\n",
      "|[11]|   [11,39,0]|[39]| [39,54,92562]|[54]|[54,65,102236]|[65]|\n",
      "|[11]|   [11,39,0]|[39]| [39,54,92562]|[54]| [54,48,22820]|[48]|\n",
      "|[11]|   [11,39,0]|[39]| [39,54,92562]|[54]| [54,48,18459]|[48]|\n",
      "|[11]|   [11,39,0]|[39]| [39,54,92562]|[54]| [54,48,18442]|[48]|\n",
      "|[48]|[48,54,2635]|[54]|[54,16,202648]|[16]|[16,35,199476]|[35]|\n",
      "|[48]|[48,54,2635]|[54]|[54,16,202648]|[16]| [16,22,29929]|[22]|\n",
      "|[48]|[48,54,2635]|[54]|[54,16,202648]|[16]| [16,60,29929]|[60]|\n",
      "|[48]|[48,54,2635]|[54]|[54,16,198018]|[16]|[16,35,199476]|[35]|\n",
      "|[48]|[48,54,2635]|[54]|[54,16,198018]|[16]| [16,22,29929]|[22]|\n",
      "|[48]|[48,54,2635]|[54]|[54,16,198018]|[16]| [16,60,29929]|[60]|\n",
      "|[48]|[48,54,2635]|[54]|[54,24,197408]|[24]|[24,65,210924]|[65]|\n",
      "|[48]|[48,54,2635]|[54]|[54,24,197408]|[24]|[24,65,191337]|[65]|\n",
      "|[48]|[48,54,2635]|[54]|[54,24,197408]|[24]|[24,54,112161]|[54]|\n",
      "|[48]|[48,54,2635]|[54]|[54,24,197408]|[24]| [24,57,30142]|[57]|\n",
      "|[48]|[48,54,2635]|[54]|[54,65,102236]|[65]|[65,35,195787]|[35]|\n",
      "|[48]|[48,54,2635]|[54]|[54,65,102236]|[65]|[65,24,115393]|[24]|\n",
      "+----+------------+----+--------------+----+--------------+----+\n",
      "only showing top 20 rows\n",
      "\n",
      "Time to find 3-hop motifs: 3294 ms\n",
      "\n"
     ]
    }
   ],
   "source": [
    "import time\n",
    "from graphframes import GraphFrame\n",
    "\n",
    "# To avoid those silly WARN on block locks not released yet by tasks.\n",
    "sc.setLogLevel('ERROR')\n",
    "\n",
    "# The default number of partitions for the shuffle RDD is a whooping 200.\n",
    "# Set it to a more sensible number, e.g., twice the number of cores.\n",
    "sqlContext.setConf('spark.sql.shuffle.partitions', '4')\n",
    "\n",
    "t0 = int(round(time.time() * 1000))\n",
    "# Create a graphframe out of SNAP's temporal dataset: https://snap.stanford.edu/data/email-Eu-core.html\n",
    "# Dept3 is the one with the smallest number of edges: 12216\n",
    "num_rows = 100\n",
    "csv_path = \"snap_temporal_graph_dataset/email-Eu-core-Dept3-%s.txt\" % num_rows\n",
    "edges_df = spark.read.format(\"com.databricks.spark.csv\").option(\"header\", \"true\").option(\"delimiter\", \" \").load(csv_path)\n",
    "\n",
    "# Construct the required vertices dataframe, which requires a special \"id\" column.\n",
    "src_vertices_df = edges_df.selectExpr(\"src as id\")\n",
    "dst_vertices_df = edges_df.selectExpr(\"dst as id\")\n",
    "vertices_df = src_vertices_df.unionAll(dst_vertices_df).distinct()\n",
    "\n",
    "# Create a GraphFrame\n",
    "g = GraphFrame(vertices_df, edges_df)\n",
    "t1 = int(round(time.time() * 1000))\n",
    "\n",
    "print('Time to load %s rows into a GraphFrame: %s ms' % (num_rows, str(t1 - t0)))\n",
    "\n",
    "# Query: Get in-degree of each vertex\n",
    "t0 = int(round(time.time() * 1000))\n",
    "g.inDegrees.show()\n",
    "t1 = int(round(time.time() * 1000))\n",
    "print('Time to calculate inDegrees: %s ms\\n' % str(t1 - t0))\n",
    "\n",
    "# Run PageRank algorithm, and show results.\n",
    "t0 = int(round(time.time() * 1000))\n",
    "results = g.pageRank(resetProbability=0.01, maxIter=10)\n",
    "results.vertices.select(\"id\", \"pagerank\").show()\n",
    "t1 = int(round(time.time() * 1000))\n",
    "print('Time to calculate PageRank with 20 iterations: %s ms' % str(t1 - t0))\n",
    "\n",
    "# Search for 3-hop motifs.\n",
    "t0 = int(round(time.time() * 1000))\n",
    "motifs = g.find(\"(v1)-[e1]->(v2); (v2)-[e2]->(v3); (v3)-[e3]->(v4)\")\n",
    "motifs.show()\n",
    "t1 = int(round(time.time() * 1000))\n",
    "print('Time to find 3-hop motifs: %s ms\\n' % str(t1 - t0))"
   ]
  },
  {
   "cell_type": "code",
   "execution_count": null,
   "metadata": {
    "collapsed": true,
    "deletable": true,
    "editable": true
   },
   "outputs": [],
   "source": [
    "# Search for 4-hop motifs: JVM Crashy McCrash if you don't set the driver memory to at least 8g.\n",
    "t0 = int(round(time.time() * 1000))\n",
    "motifs = g.find(\"(v1)-[e1]->(v2); (v2)-[e2]->(v3); (v3)-[e3]->(v4); (v4)-[e4]->(v5)\")\n",
    "motifs.show()\n",
    "t1 = int(round(time.time() * 1000))\n",
    "print('Time to find 4-hop motifs: %s ms\\n' % str(t1 - t0))\n"
   ]
  },
  {
   "cell_type": "code",
   "execution_count": null,
   "metadata": {
    "collapsed": true,
    "deletable": true,
    "editable": true
   },
   "outputs": [],
   "source": [
    "# Search for 5-hop motifs: JVM Crashy McCrash if you don't set the driver memory to at least 8g.\n",
    "# Used up all mem, and in 30 minutes it still wasn't done.  Had to kill it >.<\n",
    "t0 = int(round(time.time() * 1000))\n",
    "motifs = g.find(\"(v1)-[e1]->(v2); (v2)-[e2]->(v3); (v3)-[e3]->(v4); (v4)-[e4]->(v5); (v5)-[e5]->(v6)\")\n",
    "motifs.show()\n",
    "t1 = int(round(time.time() * 1000))\n",
    "print('Time to find 5-hop motifs: %s ms\\n' % str(t1 - t0))"
   ]
  },
  {
   "cell_type": "code",
   "execution_count": null,
   "metadata": {
    "collapsed": true,
    "deletable": true,
    "editable": true
   },
   "outputs": [],
   "source": []
  }
 ],
 "metadata": {
  "anaconda-cloud": {},
  "kernelspec": {
   "display_name": "Python [Root]",
   "language": "python",
   "name": "Python [Root]"
  },
  "language_info": {
   "codemirror_mode": {
    "name": "ipython",
    "version": 3
   },
   "file_extension": ".py",
   "mimetype": "text/x-python",
   "name": "python",
   "nbconvert_exporter": "python",
   "pygments_lexer": "ipython3",
   "version": "3.5.2"
  }
 },
 "nbformat": 4,
 "nbformat_minor": 2
}
