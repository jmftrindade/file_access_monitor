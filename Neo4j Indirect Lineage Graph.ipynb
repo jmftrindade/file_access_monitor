{
 "cells": [
  {
   "cell_type": "code",
   "execution_count": 1,
   "metadata": {
    "collapsed": false
   },
   "outputs": [
    {
     "name": "stdout",
     "output_type": "stream",
     "text": [
      " job | PID \n",
      "-----+------\n",
      " cp  | 3792\n",
      "\n"
     ]
    }
   ],
   "source": [
    "import pandas as pd\n",
    "# Use py2neo v2, not v3!\n",
    "from py2neo import authenticate, Graph, Node, Relationship\n",
    "\n",
    "# Log-in to Neo4j server.\n",
    "authenticate('localhost:7474', 'neo4j', 'admin')\n",
    "\n",
    "# Create lineage graph.\n",
    "graph = Graph()\n",
    "graph.delete_all()\n",
    "\n",
    "# TODO: Use a combo of dataset name and hash of contents as unique constraint?\n",
    "graph.schema.drop_uniqueness_constraint('Dataset', graph.schema.get_uniqueness_constraints('Dataset'))\n",
    "graph.schema.drop_uniqueness_constraint('Job', graph.schema.get_uniqueness_constraints('Job'))\n",
    "\n",
    "graph.schema.create_uniqueness_constraint('Dataset', 'name')\n",
    "graph.schema.create_uniqueness_constraint('Job', 'uid')\n",
    "\n",
    "dataset1 = graph.merge_one('Dataset', 'name', 'test1.csv')\n",
    "dataset2 = graph.merge_one('Dataset', 'name', 'test2.csv')\n",
    "\n",
    "job1 = graph.merge_one('Job', 'uid', 'cp-3792')\n",
    "job1['name'] = 'cp'\n",
    "job1['pid'] = 3792\n",
    "graph.push(job1)\n",
    "\n",
    "graph.create_unique(Relationship(dataset1, 'IS_READ_BY', job1, timestamp=1))\n",
    "graph.create_unique(Relationship(job1, 'WRITES_TO', dataset2, timestamp=2))\n",
    "\n",
    "#results = graph.run('MATCH (dataset:Dataset)-[:IS_READ_BY]->(job:Job) RETURN dataset.name AS dataset, job.name AS job')\n",
    "\n",
    "# Match all jobs: should be unique if we did everything right.\n",
    "#results = graph.run('MATCH (job:Job) RETURN job.name AS job, job.pid as PID')  # py2neo v3\n",
    "results = graph.cypher.execute('MATCH (job:Job) RETURN job.name AS job, job.pid as PID')\n",
    "for row in results:\n",
    "    print row\n"
   ]
  },
  {
   "cell_type": "code",
   "execution_count": null,
   "metadata": {
    "collapsed": false
   },
   "outputs": [],
   "source": [
    "from scripts.vis import draw\n",
    "\n",
    "options = {\"Dataset\": \"name\", \"Job\": \"name\"}\n",
    "draw(graph, options)"
   ]
  },
  {
   "cell_type": "code",
   "execution_count": null,
   "metadata": {
    "collapsed": true
   },
   "outputs": [],
   "source": []
  }
 ],
 "metadata": {
  "kernelspec": {
   "display_name": "Python [python2]",
   "language": "python",
   "name": "Python [python2]"
  },
  "language_info": {
   "codemirror_mode": {
    "name": "ipython",
    "version": 2
   },
   "file_extension": ".py",
   "mimetype": "text/x-python",
   "name": "python",
   "nbconvert_exporter": "python",
   "pygments_lexer": "ipython2",
   "version": "2.7.12"
  }
 },
 "nbformat": 4,
 "nbformat_minor": 0
}
